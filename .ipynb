{
 "cells": [
  {
   "cell_type": "code",
   "execution_count": null,
   "metadata": {},
   "outputs": [],
   "source": [
    "import copy\n",
    "import itertools\n",
    "import pandas as pd\n",
    "import numpy as np\n",
    "import statistics\n",
    "import seaborn as sns\n",
    "import matplotlib.pyplot as plt\n",
    "from matplotlib.pyplot import figure\n",
    "from sklearn.ensemble import RandomForestClassifier\n",
    "from sklearn import svm\n",
    "from sklearn.discriminant_analysis import LinearDiscriminantAnalysis"
   ]
  },
  {
   "cell_type": "code",
   "execution_count": null,
   "metadata": {},
   "outputs": [],
   "source": [
    "# set path to datasets\n",
    "PATH_TO_RPKM_DATA = \"./data/CCLE_RNAseq_genes_rpkm_20180929.gct\"\n",
    "PATH_TO_ANTICANCER_DRUG_DATA = \"./data/CCLE_NP24.2009_Drug_data_2015.02.24.csv\""
   ]
  },
  {
   "cell_type": "code",
   "execution_count": null,
   "metadata": {},
   "outputs": [],
   "source": [
    "# reading RPKM data\n",
    "# first two rows and first two columns are irrelevant\n",
    "# index_col can be used to set the row names\n",
    "RPKMData = pd.read_csv(PATH_TO_RPKM_DATA, sep = '\\t', skiprows = 2, index_col = 0)\n",
    "\n",
    "drugData = pd.read_csv(PATH_TO_ANTICANCER_DRUG_DATA, delimiter=',')"
   ]
  },
  {
   "cell_type": "code",
   "execution_count": null,
   "metadata": {},
   "outputs": [],
   "source": [
    "# identifying compounds in dataset\n",
    "allCompounds = drugData['Compound'].unique()\n",
    "print(allCompounds)\n",
    "\n",
    "# separate data by compound \n",
    "drugDataByCompound = {compound : drugData.loc[drugData['Compound'] == compound] for compound in allCompounds}\n",
    "print(drugDataByCompound[allCompounds[0]])"
   ]
  },
  {
   "cell_type": "code",
   "execution_count": null,
   "metadata": {
    "scrolled": true
   },
   "outputs": [],
   "source": [
    "# sort data per compound by IC50\n",
    "for compound in allCompounds:\n",
    "    sortData = copy.deepcopy(drugDataByCompound[compound])\n",
    "    sortData.sort_values(by = ['IC50 (uM)'], inplace = True)\n",
    "    drugDataByCompound[compound] = sortData\n",
    "print(drugDataByCompound[allCompounds[0]])"
   ]
  },
  {
   "cell_type": "code",
   "execution_count": null,
   "metadata": {},
   "outputs": [],
   "source": [
    "fig, axes = plt.subplots(4, 6, figsize = (12, 12))\n",
    "fig.set_facecolor('w')\n",
    "for i in range(4):\n",
    "    for j in range(6):\n",
    "        compound = allCompounds[i*6 + j]\n",
    "        axes[i, j].plot(drugDataByCompound[compound]['CCLE Cell Line Name'], drugDataByCompound[compound]['IC50 (uM)'], color = 'b')\n",
    "        axes[i, j].axhline(y = drugDataByCompound[compound]['IC50 (uM)'].mean(), color = 'r')\n",
    "        axes[i, j].text(0, drugDataByCompound[compound]['IC50 (uM)'].mean() + 0.25, str(drugDataByCompound[compound]['IC50 (uM)'].mean()), color = 'r', fontsize = 8.5)\n",
    "        axes[i, j].set_title(compound)\n",
    "plt.setp(plt.gcf().get_axes(), xticks=[])"
   ]
  },
  {
   "cell_type": "code",
   "execution_count": null,
   "metadata": {},
   "outputs": [],
   "source": [
    "# extract IC50 data for a given compound\n",
    "compound = 'RAF265'\n",
    "ic50 = pd.Series(list(drugDataByCompound[compound]['IC50 (uM)']), index = list(drugDataByCompound[compound]['CCLE Cell Line Name']))\n",
    "print(ic50)"
   ]
  },
  {
   "cell_type": "code",
   "execution_count": null,
   "metadata": {},
   "outputs": [],
   "source": [
    "# limit data to samples with IC50 data and RPKM data\n",
    "all_samples = list(set(RPKMData.columns) & set(ic50.index))\n",
    "ic50 = ic50[all_samples]\n",
    "print(ic50)"
   ]
  },
  {
   "cell_type": "code",
   "execution_count": null,
   "metadata": {},
   "outputs": [],
   "source": [
    "# convert IC50 data into resistant/sensitive labels based on mean()\n",
    "drug_response = pd.Series(['Resistant' if item > ic50.mean() else 'Sensitive' for i, item in ic50.iteritems()], index = ic50.index)\n",
    "print(drug_response)"
   ]
  },
  {
   "cell_type": "code",
   "execution_count": null,
   "metadata": {},
   "outputs": [],
   "source": [
    "# apply a variance based feature reduction (removing bottom 40% lowest variance)\n",
    "filtered_RPKMData = RPKMData[all_samples]\n",
    "filtered_RPKMData = filtered_RPKMData[filtered_RPKMData.var(axis = 1) > RPKMData[all_samples].var(axis = 1).quantile(q = 0.4)]\n",
    "\n",
    "## evaluate adding tumor type as a feature\n",
    "unique_tumor_types = set(['_'.join(sample.split('_')[1:]) for sample in all_samples])\n",
    "encoding_map = {tumor_type : index for index, tumor_type in enumerate(unique_tumor_types)}\n",
    "tumor_type_df = pd.DataFrame({'TumorType' : {sample : encoding_map['_'.join(sample.split('_')[1:])] for sample in all_samples}}).transpose()\n",
    "filtered_withtype_RPKMData = pd.concat([filtered_RPKMData, tumor_type_df])"
   ]
  },
  {
   "cell_type": "code",
   "execution_count": null,
   "metadata": {},
   "outputs": [],
   "source": [
    "# randomly assign samples to bins\n",
    "sample_bins = {}\n",
    "n_bins = 30\n",
    "random_seed = 1234\n",
    "drug_response = drug_response.sample(frac = 1, random_state = random_seed)\n",
    "for i, sample in enumerate(drug_response.index):\n",
    "    sample_bins.setdefault(i%n_bins,[]).append(sample)"
   ]
  },
  {
   "cell_type": "code",
   "execution_count": null,
   "metadata": {},
   "outputs": [],
   "source": [
    "# unfiltered data\n",
    "total_correct = 0\n",
    "total_tested = 0\n",
    "for test_bin in range(n_bins):\n",
    "    train_samples = list(itertools.chain.from_iterable([sample_bins[i] if i != test_bin else [] for i in sample_bins.keys()]))\n",
    "    test_samples = sample_bins[test_bin]\n",
    "    train_labels = drug_response[train_samples]\n",
    "    train_RPKM = RPKMData[train_samples].transpose()\n",
    "    test_labels = drug_response[test_samples]\n",
    "    test_RPKM = RPKMData[test_samples].transpose()\n",
    "\n",
    "    train_rf = RandomForestClassifier(n_estimators = 1000, random_state = random_seed)\n",
    "    train_rf.fit(train_RPKM, train_labels)\n",
    "    test_predictions = pd.Series(train_rf.predict(test_RPKM), index = test_RPKM.index)\n",
    "\n",
    "    total_correct += sum(test_predictions == test_labels)\n",
    "    total_tested += len(test_predictions)\n",
    "\n",
    "print(total_correct/total_tested)"
   ]
  },
  {
   "cell_type": "code",
   "execution_count": null,
   "metadata": {},
   "outputs": [],
   "source": [
    "# with filtered data\n",
    "total_correct = 0\n",
    "total_tested = 0\n",
    "for test_bin in range(n_bins):\n",
    "    train_samples = list(itertools.chain.from_iterable([sample_bins[i] if i != test_bin else [] for i in sample_bins.keys()]))\n",
    "    test_samples = sample_bins[test_bin]\n",
    "    train_labels = drug_response[train_samples]\n",
    "    train_RPKM = filtered_RPKMData[train_samples].transpose()\n",
    "    test_labels = drug_response[test_samples]\n",
    "    test_RPKM = filtered_RPKMData[test_samples].transpose()\n",
    "\n",
    "    train_rf = RandomForestClassifier(n_estimators = 1000, random_state = random_seed)\n",
    "    train_rf.fit(train_RPKM, train_labels)\n",
    "    test_predictions = pd.Series(train_rf.predict(test_RPKM), index = test_RPKM.index)\n",
    "\n",
    "    total_correct += sum(test_predictions == test_labels)\n",
    "    total_tested += len(test_predictions)\n",
    "\n",
    "print(total_correct/total_tested)"
   ]
  },
  {
   "cell_type": "code",
   "execution_count": null,
   "metadata": {},
   "outputs": [],
   "source": [
    "# filtered data with tumor type as feature\n",
    "total_correct = 0\n",
    "total_tested = 0\n",
    "for test_bin in range(n_bins):\n",
    "    train_samples = list(itertools.chain.from_iterable([sample_bins[i] if i != test_bin else [] for i in sample_bins.keys()]))\n",
    "    test_samples = sample_bins[test_bin]\n",
    "    train_labels = drug_response[train_samples]\n",
    "    train_RPKM = filtered_withtype_RPKMData[train_samples].transpose()\n",
    "    test_labels = drug_response[test_samples]\n",
    "    test_RPKM = filtered_withtype_RPKMData[test_samples].transpose()\n",
    "\n",
    "    train_rf = RandomForestClassifier(n_estimators = 1000, random_state = random_seed)\n",
    "    train_rf.fit(train_RPKM, train_labels)\n",
    "    test_predictions = pd.Series(train_rf.predict(test_RPKM), index = test_RPKM.index)\n",
    "\n",
    "    total_correct += sum(test_predictions == test_labels)\n",
    "    total_tested += len(test_predictions)\n",
    "\n",
    "print(total_correct/total_tested)"
   ]
  },
  {
   "cell_type": "code",
   "execution_count": null,
   "metadata": {},
   "outputs": [],
   "source": [
    "for train_bins_count in [1, 2, 5, 10, 20, 29]:\n",
    "    total_correct = 0\n",
    "    total_tested = 0\n",
    "    bin_interval = min(train_bins_count, n_bins - train_bins_count)\n",
    "    for current_interval in range(int(n_bins/bin_interval)):\n",
    "        if train_bins_count == bin_interval:\n",
    "            train_samples = list(itertools.chain.from_iterable([sample_bins[i] if i in range(current_interval*bin_interval, (current_interval + 1)*bin_interval) else [] for i in sample_bins.keys()]))\n",
    "            test_samples = list(itertools.chain.from_iterable([sample_bins[i] if i not in range(current_interval*bin_interval, (current_interval + 1)*bin_interval) else [] for i in sample_bins.keys()]))\n",
    "        else:\n",
    "            train_samples = list(itertools.chain.from_iterable([sample_bins[i] if i not in range(current_interval*bin_interval, (current_interval + 1)*bin_interval) else [] for i in sample_bins.keys()]))\n",
    "            test_samples = list(itertools.chain.from_iterable([sample_bins[i] if i in range(current_interval*bin_interval, (current_interval + 1)*bin_interval) else [] for i in sample_bins.keys()]))\n",
    "        # add a step to remove any imputed samples from the test array\n",
    "        train_labels = drug_response[train_samples]\n",
    "        train_RPKM = filtered_RPKMData[train_samples].transpose()\n",
    "        test_labels = drug_response[test_samples]\n",
    "        test_RPKM = filtered_RPKMData[test_samples].transpose()\n",
    "\n",
    "        train_rf = RandomForestClassifier(n_estimators = 1000, random_state = random_seed)\n",
    "        train_rf.fit(train_RPKM, train_labels)\n",
    "        test_predictions = pd.Series(train_rf.predict(test_RPKM), index = test_RPKM.index)\n",
    "\n",
    "        total_correct += sum(test_predictions == test_labels)\n",
    "        total_tested += len(test_predictions)\n",
    "    print((train_bins_count, total_correct/total_tested))\n",
    "    \n",
    "# next steps here, impute labels for samples in RNAseq dataset without labels then see the effect of using those data points for training\n",
    "# (include this data in the randomization of binning, and use this data to train the model, but don't use this data in the calculation of accuracy)"
   ]
  },
  {
   "cell_type": "code",
   "execution_count": null,
   "metadata": {},
   "outputs": [],
   "source": [
    "# set up training and testing datasets\n",
    "\n",
    "test_bin = 0 # iterate\n",
    "train_samples = list(itertools.chain.from_iterable([sample_bins[i] if i != test_bin else [] for i in sample_bins.keys()]))\n",
    "train_labels = drug_response[train_samples]\n",
    "train_RPKM = RPKMData[train_samples].transpose()\n",
    "\n",
    "test_samples = sample_bins[test_bin]\n",
    "test_labels = drug_response[test_samples]\n",
    "test_RPKM = RPKMData[test_samples].transpose()\n",
    "\n",
    "# copy train samples\n",
    "# for loop and crop out left of first instance of '_'\n",
    "# append to the training dataframe\n",
    "cancer_train_samples = train_samples\n",
    "for i in range(len(cancer_train_samples)):\n",
    "    cancer_type = cancer_train_samples[i][cancer_train_samples[i].find('_') + 1:]\n",
    "    cancer_train_samples[i] = cancer_types_map.index(cancer_type)\n",
    "train_RPKM[\"Cancer\"] = cancer_train_samples\n",
    "\n",
    "cancer_test_samples = test_samples\n",
    "for i in range(len(cancer_test_samples)):\n",
    "    cancer_type = cancer_test_samples[i][cancer_test_samples[i].find('_') + 1:]\n",
    "    cancer_test_samples[i] = cancer_types_map.index(cancer_type)\n",
    "test_RPKM[\"Cancer\"] = cancer_test_samples"
   ]
  },
  {
   "cell_type": "code",
   "execution_count": null,
   "metadata": {},
   "outputs": [],
   "source": [
    "# model\n",
    "train_rf = RandomForestClassifier(n_estimators = 256, random_state = random_seed)\n",
    "train_rf.fit(train_RPKM, train_labels)\n",
    "test_predictions = pd.Series(train_rf.predict(test_RPKM), index = test_RPKM.index)\n",
    "\n",
    "# compares predictions against actual labels to get accuracy\n",
    "print(sum(test_predictions == test_labels)/len(test_predictions))"
   ]
  },
  {
   "cell_type": "code",
   "execution_count": null,
   "metadata": {},
   "outputs": [],
   "source": [
    "#only finds the important features of the training data, not everything\n",
    "feature_importances = pd.Series(train_rf.feature_importances_, index = train_RPKM.columns) # keep track of each feature importances for each iteration of test bins and average\n",
    "feature_importances = feature_importances[feature_importances > 0]\n",
    "important_features = list(feature_importances.index.values)\n",
    "\n",
    "#find features that are greater than 0 *implies importance to the model*\n",
    "feature_drops = list(np.setdiff1d(list(train_RPKM.columns), important_features))\n",
    "feature_drops.remove(\"Cancer\") # make sure to keep the cancer feature"
   ]
  },
  {
   "cell_type": "code",
   "execution_count": null,
   "metadata": {},
   "outputs": [],
   "source": [
    "# clear any of the features we deemed not important\n",
    "important_train_RPKM = train_RPKM.drop(columns=feature_drops)\n",
    "\n",
    "important_test_RPKM = test_RPKM.drop(columns=feature_drops)"
   ]
  },
  {
   "cell_type": "code",
   "execution_count": null,
   "metadata": {},
   "outputs": [],
   "source": [
    "# model IMPORTANT FEATURES ONLY\n",
    "important_train_rf = RandomForestClassifier(n_estimators = 256, random_state = random_seed)\n",
    "important_train_rf.fit(important_train_RPKM, train_labels)\n",
    "important_test_predictions = pd.Series(important_train_rf.predict(important_test_RPKM), index = important_test_RPKM.index)\n",
    "\n",
    "# compares predictions against actual labels to get accuracy\n",
    "print(sum(important_test_predictions == test_labels)/len(important_test_predictions))"
   ]
  },
  {
   "cell_type": "code",
   "execution_count": null,
   "metadata": {},
   "outputs": [],
   "source": [
    "feature_drops = list(np.setdiff1d(list(RPKMData.index.values), important_features))\n",
    "important_RPKMData = RPKMData.drop(feature_drops).drop(columns=['Description'])\n",
    "important_RPKMData"
   ]
  },
  {
   "cell_type": "code",
   "execution_count": null,
   "metadata": {},
   "outputs": [],
   "source": [
    "len(important_RPKMData.iloc[0])"
   ]
  },
  {
   "cell_type": "code",
   "execution_count": null,
   "metadata": {},
   "outputs": [],
   "source": [
    "normalized_RPKMData = important_RPKMData\n",
    "for r in range(len(normalized_RPKMData)):\n",
    "    row_sum = sum(list(normalized_RPKMData.iloc[r]))\n",
    "    mean = row_sum / len(normalized_RPKMData.iloc[r])\n",
    "    variance = statistics.variance(list(normalized_RPKMData.iloc[r]))\n",
    "    for c in range(len(normalized_RPKMData.iloc[r])):\n",
    "        normalized_RPKMData.iloc[r, c] = (normalized_RPKMData.iloc[r, c] - mean) / variance\n",
    "        \n",
    "normalized_RPKMData"
   ]
  },
  {
   "cell_type": "code",
   "execution_count": null,
   "metadata": {},
   "outputs": [],
   "source": [
    "plt.figure(figsize = (20,20)) # normalize the data *subtract mean and divide by variance*\n",
    "ax = sns.heatmap(normalized_RPKMData.to_numpy(), linewidths = 0.01)"
   ]
  },
  {
   "cell_type": "code",
   "execution_count": null,
   "metadata": {},
   "outputs": [],
   "source": [
    "from sklearn.ensemble import ExtraTreesClassifier\n",
    "model = ExtraTreesClassifier()\n",
    "model.fit(RPKMData.)"
   ]
  },
  {
   "cell_type": "code",
   "execution_count": null,
   "metadata": {},
   "outputs": [],
   "source": [
    "np.max(normalized_RPKMData.to_numpy())\n"
   ]
  },
  {
   "cell_type": "code",
   "execution_count": null,
   "metadata": {},
   "outputs": [],
   "source": [
    "test_bin = 0\n",
    "train_samples = list(itertools.chain.from_iterable([sample_bins[i] if i != test_bin else [] for i in sample_bins.keys()]))\n",
    "test_samples = sample_bins[test_bin]\n",
    "train_labels = drug_response[train_samples]\n",
    "train_RPKM = RPKMData[train_samples].transpose()\n",
    "test_labels = drug_response[test_samples]\n",
    "test_RPKM = RPKMData[test_samples].transpose()\n",
    "\n",
    "train_svm = svm.SVC()\n",
    "train_svm.fit(train_RPKM, train_labels)\n",
    "test_predictions = train_svm.predict(test_RPKM)"
   ]
  },
  {
   "cell_type": "code",
   "execution_count": null,
   "metadata": {},
   "outputs": [],
   "source": []
  }
 ],
 "metadata": {
  "kernelspec": {
   "display_name": "Python 3",
   "language": "python",
   "name": "python3"
  },
  "language_info": {
   "codemirror_mode": {
    "name": "ipython",
    "version": 3
   },
   "file_extension": ".py",
   "mimetype": "text/x-python",
   "name": "python",
   "nbconvert_exporter": "python",
   "pygments_lexer": "ipython3",
   "version": "3.7.4"
  }
 },
 "nbformat": 4,
 "nbformat_minor": 2
}
